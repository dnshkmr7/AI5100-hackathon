{
 "cells": [
  {
   "cell_type": "code",
   "execution_count": 1,
   "id": "deae6fe3",
   "metadata": {
    "_cell_guid": "795ff37e-edc2-4e5d-ba73-8a725e766437",
    "_uuid": "9bcd8054-78e8-4e95-b08c-0dc2ea9c55ce",
    "collapsed": false,
    "execution": {
     "iopub.execute_input": "2024-04-19T15:51:38.458452Z",
     "iopub.status.busy": "2024-04-19T15:51:38.457549Z",
     "iopub.status.idle": "2024-04-19T15:51:46.286307Z",
     "shell.execute_reply": "2024-04-19T15:51:46.285422Z"
    },
    "jupyter": {
     "outputs_hidden": false
    },
    "papermill": {
     "duration": 7.836689,
     "end_time": "2024-04-19T15:51:46.288734",
     "exception": false,
     "start_time": "2024-04-19T15:51:38.452045",
     "status": "completed"
    },
    "tags": []
   },
   "outputs": [],
   "source": [
    "import torch\n",
    "import torch.nn as nn\n",
    "import torch.optim as optim\n",
    "import torchvision.transforms as transforms\n",
    "from torch.utils.data import DataLoader, random_split\n",
    "from torchvision.datasets import ImageFolder\n",
    "import os\n",
    "import pandas as pd"
   ]
  },
  {
   "cell_type": "code",
   "execution_count": 2,
   "id": "4f51963e",
   "metadata": {
    "_cell_guid": "eab3a50d-2eec-4830-bb66-541613001b03",
    "_uuid": "562f8445-8c3e-4926-8dd1-4b9e7cc2a25c",
    "collapsed": false,
    "execution": {
     "iopub.execute_input": "2024-04-19T15:51:46.297211Z",
     "iopub.status.busy": "2024-04-19T15:51:46.296722Z",
     "iopub.status.idle": "2024-04-19T15:51:46.316273Z",
     "shell.execute_reply": "2024-04-19T15:51:46.315354Z"
    },
    "jupyter": {
     "outputs_hidden": false
    },
    "papermill": {
     "duration": 0.026068,
     "end_time": "2024-04-19T15:51:46.318416",
     "exception": false,
     "start_time": "2024-04-19T15:51:46.292348",
     "status": "completed"
    },
    "tags": []
   },
   "outputs": [],
   "source": [
    "class ResidualBlock(nn.Module):\n",
    "    def __init__(self, in_channels, out_channels, stride=1, downsample=None):\n",
    "        super(ResidualBlock, self).__init__()\n",
    "        self.conv1 = nn.Conv2d(in_channels, out_channels, kernel_size=3, stride=stride, padding=1, bias=False)\n",
    "        self.bn1 = nn.BatchNorm2d(out_channels)\n",
    "        self.relu = nn.ReLU(inplace=True)\n",
    "        self.conv2 = nn.Conv2d(out_channels, out_channels, kernel_size=3, stride=1, padding=1, bias=False)\n",
    "        self.bn2 = nn.BatchNorm2d(out_channels)\n",
    "        self.downsample = downsample\n",
    "\n",
    "    def forward(self, x):\n",
    "        identity = x\n",
    "        \n",
    "        out = self.conv1(x)\n",
    "        out = self.bn1(out)\n",
    "        out = self.relu(out)\n",
    "        \n",
    "        out = self.conv2(out)\n",
    "        out = self.bn2(out)\n",
    "        \n",
    "        if self.downsample is not None:\n",
    "            identity = self.downsample(x)\n",
    "        \n",
    "        out += identity\n",
    "        out = self.relu(out)\n",
    "        \n",
    "        return out\n",
    "\n",
    "class ResNet(nn.Module):\n",
    "    def __init__(self, block, layers, num_classes):\n",
    "        super(ResNet, self).__init__()\n",
    "        self.in_channels = 64\n",
    "        self.conv1 = nn.Conv2d(3, 64, kernel_size=7, stride=2, padding=3, bias=False)\n",
    "        self.bn1 = nn.BatchNorm2d(64)\n",
    "        self.relu = nn.ReLU(inplace=True)\n",
    "        self.maxpool = nn.MaxPool2d(kernel_size=3, stride=2, padding=1)\n",
    "        self.layer1 = self.make_layer(block, 64, layers[0])\n",
    "        self.layer2 = self.make_layer(block, 128, layers[1], stride=2)\n",
    "        self.layer3 = self.make_layer(block, 256, layers[2], stride=2)\n",
    "        self.layer4 = self.make_layer(block, 512, layers[3], stride=2)\n",
    "        self.avgpool = nn.AdaptiveAvgPool2d((1, 1))\n",
    "        self.fc = nn.Linear(512, num_classes)\n",
    "\n",
    "    def make_layer(self, block, out_channels, blocks, stride=1):\n",
    "        downsample = None\n",
    "        if (stride != 1) or (self.in_channels != out_channels):\n",
    "            downsample = nn.Sequential(\n",
    "                nn.Conv2d(self.in_channels, out_channels, kernel_size=1, stride=stride, bias=False),\n",
    "                nn.BatchNorm2d(out_channels)\n",
    "            )\n",
    "        layers = []\n",
    "        layers.append(block(self.in_channels, out_channels, stride, downsample))\n",
    "        self.in_channels = out_channels\n",
    "        for _ in range(1, blocks):\n",
    "            layers.append(block(out_channels, out_channels))\n",
    "        return nn.Sequential(*layers)\n",
    "\n",
    "    def forward(self, x):\n",
    "        x = self.conv1(x)\n",
    "        x = self.bn1(x)\n",
    "        x = self.relu(x)\n",
    "        x = self.maxpool(x)\n",
    "        \n",
    "        x = self.layer1(x)\n",
    "        x = self.layer2(x)\n",
    "        x = self.layer3(x)\n",
    "        x = self.layer4(x)\n",
    "        \n",
    "        x = self.avgpool(x)\n",
    "        x = torch.flatten(x, 1)\n",
    "        x = self.fc(x)\n",
    "        \n",
    "        return x"
   ]
  },
  {
   "cell_type": "code",
   "execution_count": 3,
   "id": "0eb17244",
   "metadata": {
    "_cell_guid": "023f59c5-77ea-410d-ace2-02b0eac9d12e",
    "_uuid": "358c033f-e008-4e5d-8326-7c9973a13032",
    "collapsed": false,
    "execution": {
     "iopub.execute_input": "2024-04-19T15:51:46.326658Z",
     "iopub.status.busy": "2024-04-19T15:51:46.325920Z",
     "iopub.status.idle": "2024-04-19T15:51:46.406257Z",
     "shell.execute_reply": "2024-04-19T15:51:46.405295Z"
    },
    "jupyter": {
     "outputs_hidden": false
    },
    "papermill": {
     "duration": 0.086354,
     "end_time": "2024-04-19T15:51:46.408173",
     "exception": false,
     "start_time": "2024-04-19T15:51:46.321819",
     "status": "completed"
    },
    "tags": []
   },
   "outputs": [],
   "source": [
    "device = torch.device('cuda' if torch.cuda.is_available() else 'cpu')\n",
    "\n",
    "train_path = '/kaggle/input/iith-dl-contest-2024/train/train/'\n",
    "test_path = '/kaggle/input/iith-dl-contest-2024/test/'\n",
    "image_size = 224\n",
    "batch_size = 256\n",
    "validation_ratio = 0.15\n",
    "num_classes = 50\n",
    "num_epochs = 1\n",
    "learning_rate = 3e-2\n",
    "print_interval = 25\n",
    "save_model = False"
   ]
  },
  {
   "cell_type": "code",
   "execution_count": 4,
   "id": "1e69e3b5",
   "metadata": {
    "_cell_guid": "ff1823a2-fbb1-4863-9338-33350e8c16bb",
    "_uuid": "820de433-f91b-436c-996e-f4698c9a9dcf",
    "collapsed": false,
    "execution": {
     "iopub.execute_input": "2024-04-19T15:51:46.416569Z",
     "iopub.status.busy": "2024-04-19T15:51:46.416189Z",
     "iopub.status.idle": "2024-04-19T15:51:46.422733Z",
     "shell.execute_reply": "2024-04-19T15:51:46.421822Z"
    },
    "jupyter": {
     "outputs_hidden": false
    },
    "papermill": {
     "duration": 0.013105,
     "end_time": "2024-04-19T15:51:46.424758",
     "exception": false,
     "start_time": "2024-04-19T15:51:46.411653",
     "status": "completed"
    },
    "tags": []
   },
   "outputs": [],
   "source": [
    "transform_train = transforms.Compose([\n",
    "    transforms.RandomResizedCrop(image_size),\n",
    "    transforms.RandomHorizontalFlip(),\n",
    "    transforms.ToTensor(),\n",
    "    transforms.Normalize(mean=[0.485, 0.456, 0.406], std=[0.229, 0.224, 0.225])\n",
    "])\n",
    "\n",
    "transform_test = transforms.Compose([\n",
    "    transforms.Resize((image_size, image_size)),\n",
    "    transforms.ToTensor(),\n",
    "    transforms.Normalize(mean=[0.485, 0.456, 0.406], std=[0.229, 0.224, 0.225])\n",
    "])"
   ]
  },
  {
   "cell_type": "code",
   "execution_count": 5,
   "id": "4e663878",
   "metadata": {
    "_cell_guid": "20cc098c-0591-42cb-a21d-f854f7b4a870",
    "_uuid": "8f28a243-e887-46d0-941a-11e87df0c067",
    "collapsed": false,
    "execution": {
     "iopub.execute_input": "2024-04-19T15:51:46.433322Z",
     "iopub.status.busy": "2024-04-19T15:51:46.432933Z",
     "iopub.status.idle": "2024-04-19T15:52:47.361832Z",
     "shell.execute_reply": "2024-04-19T15:52:47.360747Z"
    },
    "jupyter": {
     "outputs_hidden": false
    },
    "papermill": {
     "duration": 60.936674,
     "end_time": "2024-04-19T15:52:47.365008",
     "exception": false,
     "start_time": "2024-04-19T15:51:46.428334",
     "status": "completed"
    },
    "tags": []
   },
   "outputs": [],
   "source": [
    "train_dataset = ImageFolder(root=train_path, transform=transform_train)\n",
    "test_dataset = ImageFolder(root=test_path, transform=transform_test)\n",
    "\n",
    "train_size = int((1 - validation_ratio) * len(train_dataset))\n",
    "validation_size = len(train_dataset) - train_size\n",
    "train_dataset, validation_dataset = random_split(train_dataset, [train_size, validation_size])\n",
    "\n",
    "train_loader = DataLoader(train_dataset, batch_size=batch_size, shuffle=True)\n",
    "validation_loader = DataLoader(validation_dataset, batch_size=batch_size)\n",
    "test_loader = DataLoader(test_dataset, batch_size=batch_size)\n",
    "\n",
    "model = ResNet(ResidualBlock, [2, 2, 2, 2], num_classes).to(device)\n",
    "criterion = nn.CrossEntropyLoss()\n",
    "optimizer = optim.Adam(model.parameters(), lr=learning_rate)"
   ]
  },
  {
   "cell_type": "code",
   "execution_count": 6,
   "id": "77ed3d76",
   "metadata": {
    "_cell_guid": "47301e30-ee45-4074-9863-7c0579c1cdd3",
    "_uuid": "542c5193-bb22-43e8-a549-e86833c6fbe8",
    "collapsed": false,
    "execution": {
     "iopub.execute_input": "2024-04-19T15:52:47.375881Z",
     "iopub.status.busy": "2024-04-19T15:52:47.375592Z",
     "iopub.status.idle": "2024-04-19T16:14:31.233988Z",
     "shell.execute_reply": "2024-04-19T16:14:31.232874Z"
    },
    "jupyter": {
     "outputs_hidden": false
    },
    "papermill": {
     "duration": 1303.870494,
     "end_time": "2024-04-19T16:14:31.240502",
     "exception": false,
     "start_time": "2024-04-19T15:52:47.370008",
     "status": "completed"
    },
    "tags": []
   },
   "outputs": [
    {
     "name": "stdout",
     "output_type": "stream",
     "text": [
      "Epoch [1/1], Step [1/216], Loss: 4.011035442352295, Accuracy: 1.953125\n",
      "Epoch [1/1], Step [26/216], Loss: 5.51279799754803, Accuracy: 2.509014423076923\n",
      "Epoch [1/1], Step [51/216], Loss: 4.733001021777882, Accuracy: 2.6501225490196076\n",
      "Epoch [1/1], Step [76/216], Loss: 4.4450432281745105, Accuracy: 2.909128289473684\n",
      "Epoch [1/1], Step [101/216], Loss: 4.2833395995716055, Accuracy: 3.190748762376238\n",
      "Epoch [1/1], Step [126/216], Loss: 4.173197748169066, Accuracy: 3.779141865079365\n",
      "Epoch [1/1], Step [151/216], Loss: 4.095979125294464, Accuracy: 4.133899006622516\n",
      "Epoch [1/1], Step [176/216], Loss: 4.033942291682417, Accuracy: 4.487748579545454\n",
      "Epoch [1/1], Step [201/216], Loss: 3.979960701358852, Accuracy: 4.912935323383085\n",
      "Epoch [1/1], Training Loss: 3.9472913344701133, Training Accuracy: 5.218099547511312, Validation Loss: 3.581664256560497, Validation Accuracy: 8.246153846153845\n",
      "Test Accuracy: 0.024109888964187042\n"
     ]
    }
   ],
   "source": [
    "for epoch in range(num_epochs):\n",
    "    model.train()\n",
    "    running_loss = 0.0\n",
    "    correct = 0\n",
    "    total = 0\n",
    "    \n",
    "    for i, (inputs, labels) in enumerate(train_loader):\n",
    "        inputs, labels = inputs.to(device), labels.to(device)\n",
    "        \n",
    "        optimizer.zero_grad()\n",
    "        \n",
    "        outputs = model(inputs)\n",
    "        loss = criterion(outputs, labels)\n",
    "        \n",
    "        loss.backward()\n",
    "        optimizer.step()\n",
    "        \n",
    "        running_loss += loss.item()\n",
    "        _, predicted = outputs.max(1)\n",
    "        total += labels.size(0)\n",
    "        correct += predicted.eq(labels).sum().item()\n",
    "        \n",
    "        if i % print_interval == 0:\n",
    "            print(f'Epoch [{epoch+1}/{num_epochs}], Step [{i+1}/{len(train_loader)}], Loss: {running_loss / (i + 1)}, Accuracy: {100 * correct / total}')\n",
    "    \n",
    "    model.eval()\n",
    "    val_loss = 0.0\n",
    "    val_correct = 0\n",
    "    val_total = 0\n",
    "    \n",
    "    with torch.no_grad():\n",
    "        for inputs, labels in validation_loader:\n",
    "            inputs, labels = inputs.to(device), labels.to(device)\n",
    "            outputs = model(inputs)\n",
    "            loss = criterion(outputs, labels)\n",
    "            \n",
    "            val_loss += loss.item()\n",
    "            _, predicted = outputs.max(1)\n",
    "            val_total += labels.size(0)\n",
    "            val_correct += predicted.eq(labels).sum().item()\n",
    "    \n",
    "    print(f'Epoch [{epoch+1}/{num_epochs}], Training Loss: {running_loss / len(train_loader)}, Training Accuracy: {100 * correct / total}, Validation Loss: {val_loss / len(validation_loader)}, Validation Accuracy: {100 * val_correct / val_total}')\n",
    "\n",
    "model.eval()\n",
    "test_correct = 0\n",
    "test_total = 0\n",
    "\n",
    "with torch.no_grad():\n",
    "    for inputs, labels in test_loader:\n",
    "        inputs, labels = inputs.to(device), labels.to(device)\n",
    "        outputs = model(inputs)\n",
    "        _, predicted = outputs.max(1)\n",
    "        test_total += labels.size(0)\n",
    "        test_correct += predicted.eq(labels).sum().item()\n",
    "\n",
    "print(f'Test Accuracy: {test_correct / test_total}')"
   ]
  },
  {
   "cell_type": "code",
   "execution_count": 7,
   "id": "3214236a",
   "metadata": {
    "execution": {
     "iopub.execute_input": "2024-04-19T16:14:31.253020Z",
     "iopub.status.busy": "2024-04-19T16:14:31.251811Z",
     "iopub.status.idle": "2024-04-19T16:14:31.259884Z",
     "shell.execute_reply": "2024-04-19T16:14:31.259024Z"
    },
    "papermill": {
     "duration": 0.017123,
     "end_time": "2024-04-19T16:14:31.262470",
     "exception": false,
     "start_time": "2024-04-19T16:14:31.245347",
     "status": "completed"
    },
    "tags": []
   },
   "outputs": [],
   "source": [
    "if save_model:\n",
    "    torch.save(model.state_dict(), '/kaggle/working/vit.pth')\n",
    "    \n",
    "class_folder_names = sorted(os.listdir('/kaggle/input/iith-dl-contest-2024/train/train'))\n",
    "id_to_class = {id : class_name for id, class_name in enumerate(class_folder_names)}"
   ]
  },
  {
   "cell_type": "code",
   "execution_count": 8,
   "id": "0b232d63",
   "metadata": {
    "execution": {
     "iopub.execute_input": "2024-04-19T16:14:31.274780Z",
     "iopub.status.busy": "2024-04-19T16:14:31.274062Z",
     "iopub.status.idle": "2024-04-19T16:17:25.394999Z",
     "shell.execute_reply": "2024-04-19T16:17:25.394008Z"
    },
    "papermill": {
     "duration": 174.12998,
     "end_time": "2024-04-19T16:17:25.397519",
     "exception": false,
     "start_time": "2024-04-19T16:14:31.267539",
     "status": "completed"
    },
    "tags": []
   },
   "outputs": [],
   "source": [
    "model.eval()\n",
    "resnet_predictions = []\n",
    "\n",
    "with torch.no_grad():\n",
    "    for images, _ in test_loader:\n",
    "        images = images.to(device)\n",
    "        outputs = model(images)\n",
    "        _, predicted_classes = torch.max(outputs, 1)\n",
    "        resnet_predictions.extend(predicted_classes.cpu().tolist())\n",
    "\n",
    "output_df_resnet = pd.DataFrame({'ID': sorted(os.listdir('/kaggle/input/iith-dl-contest-2024/test/test')),\n",
    "                                 'Category': [id_to_class[id] for id in resnet_predictions] })\n",
    "\n",
    "output_df_resnet.to_csv('/kaggle/working/submission.csv', index=False)"
   ]
  }
 ],
 "metadata": {
  "kaggle": {
   "accelerator": "nvidiaTeslaT4",
   "dataSources": [
    {
     "databundleVersionId": 8040143,
     "sourceId": 73111,
     "sourceType": "competition"
    }
   ],
   "dockerImageVersionId": 30685,
   "isGpuEnabled": true,
   "isInternetEnabled": true,
   "language": "python",
   "sourceType": "notebook"
  },
  "kernelspec": {
   "display_name": "Python 3",
   "language": "python",
   "name": "python3"
  },
  "language_info": {
   "codemirror_mode": {
    "name": "ipython",
    "version": 3
   },
   "file_extension": ".py",
   "mimetype": "text/x-python",
   "name": "python",
   "nbconvert_exporter": "python",
   "pygments_lexer": "ipython3",
   "version": "3.10.13"
  },
  "papermill": {
   "default_parameters": {},
   "duration": 1551.810613,
   "end_time": "2024-04-19T16:17:27.130226",
   "environment_variables": {},
   "exception": null,
   "input_path": "__notebook__.ipynb",
   "output_path": "__notebook__.ipynb",
   "parameters": {},
   "start_time": "2024-04-19T15:51:35.319613",
   "version": "2.5.0"
  }
 },
 "nbformat": 4,
 "nbformat_minor": 5
}
